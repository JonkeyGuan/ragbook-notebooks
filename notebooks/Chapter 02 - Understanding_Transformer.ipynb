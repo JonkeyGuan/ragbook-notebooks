{
  "nbformat": 4,
  "nbformat_minor": 0,
  "metadata": {
    "colab": {
      "provenance": [],
      "gpuType": "T4",
      "include_colab_link": true
    },
    "kernelspec": {
      "name": "python3",
      "display_name": "Python 3"
    },
    "language_info": {
      "name": "python"
    },
    "accelerator": "GPU"
  },
  "cells": [
    {
      "cell_type": "markdown",
      "metadata": {
        "id": "view-in-github",
        "colab_type": "text"
      },
      "source": [
        "<a href=\"https://colab.research.google.com/github/JonkeyGuan/ragbook-notebooks/blob/main/notebooks/Chapter%2002%20-%20Understanding_Transformer.ipynb\" target=\"_parent\"><img src=\"https://colab.research.google.com/assets/colab-badge.svg\" alt=\"Open In Colab\"/></a>"
      ]
    },
    {
      "cell_type": "code",
      "execution_count": 1,
      "metadata": {
        "id": "zHWLdTNEHzcJ"
      },
      "outputs": [],
      "source": [
        "!pip install -q transformers accelerate bitsandbytes"
      ]
    },
    {
      "cell_type": "code",
      "source": [
        "from transformers import AutoModelForCausalLM, AutoTokenizer"
      ],
      "metadata": {
        "id": "1n-_I7pSJCpm"
      },
      "execution_count": 2,
      "outputs": []
    },
    {
      "cell_type": "code",
      "source": [
        "OPT = AutoModelForCausalLM.from_pretrained(\"facebook/opt-1.3b\", load_in_8bit=True)"
      ],
      "metadata": {
        "colab": {
          "base_uri": "https://localhost:8080/"
        },
        "id": "_GpmyKUlJvX-",
        "outputId": "0d8df8de-563c-41ad-ec76-e7ac2ebbbf9a"
      },
      "execution_count": 3,
      "outputs": [
        {
          "output_type": "stream",
          "name": "stderr",
          "text": [
            "/usr/local/lib/python3.11/dist-packages/huggingface_hub/utils/_auth.py:94: UserWarning: \n",
            "The secret `HF_TOKEN` does not exist in your Colab secrets.\n",
            "To authenticate with the Hugging Face Hub, create a token in your settings tab (https://huggingface.co/settings/tokens), set it as secret in your Google Colab and restart your session.\n",
            "You will be able to reuse this secret in all of your notebooks.\n",
            "Please note that authentication is recommended but still optional to access public models or datasets.\n",
            "  warnings.warn(\n",
            "The `load_in_4bit` and `load_in_8bit` arguments are deprecated and will be removed in the future versions. Please, pass a `BitsAndBytesConfig` object in `quantization_config` argument instead.\n"
          ]
        }
      ]
    },
    {
      "cell_type": "code",
      "source": [
        "tokenizer = AutoTokenizer.from_pretrained(\"facebook/opt-1.3b\")"
      ],
      "metadata": {
        "id": "xqswNQHBJ1jA"
      },
      "execution_count": 4,
      "outputs": []
    },
    {
      "cell_type": "code",
      "source": [
        "inp = \"The quick brown fox jumps over the lazy dog\"\n",
        "inp_tokenized = tokenizer( inp, return_tensors=\"pt\" )\n",
        "print( inp_tokenized['input_ids'].size() )\n",
        "print( inp_tokenized )"
      ],
      "metadata": {
        "colab": {
          "base_uri": "https://localhost:8080/"
        },
        "id": "3RpmGfZmQBgV",
        "outputId": "945fa41e-aa36-4489-fe4a-053bdef33c58"
      },
      "execution_count": 5,
      "outputs": [
        {
          "output_type": "stream",
          "name": "stdout",
          "text": [
            "torch.Size([1, 10])\n",
            "{'input_ids': tensor([[    2,   133,  2119,  6219, 23602, 13855,    81,     5, 22414,  2335]]), 'attention_mask': tensor([[1, 1, 1, 1, 1, 1, 1, 1, 1, 1]])}\n"
          ]
        }
      ]
    },
    {
      "cell_type": "code",
      "source": [
        "print( OPT.model )"
      ],
      "metadata": {
        "colab": {
          "base_uri": "https://localhost:8080/"
        },
        "id": "TwYCI7nMFMUf",
        "outputId": "d7d347f3-6ac5-477f-eff5-6556b5b8b959",
        "collapsed": true
      },
      "execution_count": 6,
      "outputs": [
        {
          "output_type": "stream",
          "name": "stdout",
          "text": [
            "OPTModel(\n",
            "  (decoder): OPTDecoder(\n",
            "    (embed_tokens): Embedding(50272, 2048, padding_idx=1)\n",
            "    (embed_positions): OPTLearnedPositionalEmbedding(2050, 2048)\n",
            "    (final_layer_norm): LayerNorm((2048,), eps=1e-05, elementwise_affine=True)\n",
            "    (layers): ModuleList(\n",
            "      (0-23): 24 x OPTDecoderLayer(\n",
            "        (self_attn): OPTAttention(\n",
            "          (k_proj): Linear8bitLt(in_features=2048, out_features=2048, bias=True)\n",
            "          (v_proj): Linear8bitLt(in_features=2048, out_features=2048, bias=True)\n",
            "          (q_proj): Linear8bitLt(in_features=2048, out_features=2048, bias=True)\n",
            "          (out_proj): Linear8bitLt(in_features=2048, out_features=2048, bias=True)\n",
            "        )\n",
            "        (activation_fn): ReLU()\n",
            "        (self_attn_layer_norm): LayerNorm((2048,), eps=1e-05, elementwise_affine=True)\n",
            "        (fc1): Linear8bitLt(in_features=2048, out_features=8192, bias=True)\n",
            "        (fc2): Linear8bitLt(in_features=8192, out_features=2048, bias=True)\n",
            "        (final_layer_norm): LayerNorm((2048,), eps=1e-05, elementwise_affine=True)\n",
            "      )\n",
            "    )\n",
            "  )\n",
            ")\n"
          ]
        }
      ]
    },
    {
      "cell_type": "code",
      "source": [
        "inp_tokenized = {k: v.to(\"cuda\") for k, v in inp_tokenized.items()}"
      ],
      "metadata": {
        "id": "p1nE6-SA7Xa2"
      },
      "execution_count": 12,
      "outputs": []
    },
    {
      "cell_type": "code",
      "source": [
        "embedded_input = OPT.model.decoder.embed_tokens(inp_tokenized['input_ids'])\n",
        "print( \"Layer:\\t\", OPT.model.decoder.embed_tokens )\n",
        "print( \"Size:\\t\", embedded_input.size() )\n",
        "print( \"Output:\\t\", embedded_input )"
      ],
      "metadata": {
        "colab": {
          "base_uri": "https://localhost:8080/"
        },
        "id": "fP7XHh_JNsyC",
        "outputId": "877bc24e-ab3d-41bf-b98c-8e9999874d5a"
      },
      "execution_count": 13,
      "outputs": [
        {
          "output_type": "stream",
          "name": "stdout",
          "text": [
            "Layer:\t Embedding(50272, 2048, padding_idx=1)\n",
            "Size:\t torch.Size([1, 10, 2048])\n",
            "Output:\t tensor([[[-0.0407,  0.0519,  0.0574,  ..., -0.0263, -0.0355, -0.0260],\n",
            "         [-0.0371,  0.0220, -0.0096,  ...,  0.0265, -0.0166, -0.0030],\n",
            "         [-0.0455, -0.0236, -0.0121,  ...,  0.0043, -0.0166,  0.0193],\n",
            "         ...,\n",
            "         [ 0.0007,  0.0267,  0.0257,  ...,  0.0622,  0.0421,  0.0279],\n",
            "         [-0.0126,  0.0347, -0.0352,  ..., -0.0393, -0.0396, -0.0102],\n",
            "         [-0.0115,  0.0319,  0.0274,  ..., -0.0472, -0.0059,  0.0341]]],\n",
            "       device='cuda:0', dtype=torch.float16, grad_fn=<EmbeddingBackward0>)\n"
          ]
        }
      ]
    },
    {
      "cell_type": "code",
      "source": [
        "embed_pos_input = OPT.model.decoder.embed_positions(inp_tokenized['attention_mask'])\n",
        "print( \"Layer:\\t\", OPT.model.decoder.embed_positions )\n",
        "print( \"Size:\\t\", embed_pos_input.size() )\n",
        "print( \"Output:\\t\", embed_pos_input )"
      ],
      "metadata": {
        "colab": {
          "base_uri": "https://localhost:8080/"
        },
        "id": "60FnrDpDQzk0",
        "outputId": "e1e319e6-aec8-4b5d-f54d-264802e4bb59"
      },
      "execution_count": 14,
      "outputs": [
        {
          "output_type": "stream",
          "name": "stdout",
          "text": [
            "Layer:\t OPTLearnedPositionalEmbedding(2050, 2048)\n",
            "Size:\t torch.Size([1, 10, 2048])\n",
            "Output:\t tensor([[[-8.1406e-03, -2.6221e-01,  6.0768e-03,  ...,  1.7273e-02,\n",
            "          -5.0621e-03, -1.6220e-02],\n",
            "         [-8.0585e-05,  2.5000e-01, -1.6632e-02,  ..., -1.5419e-02,\n",
            "          -1.7838e-02,  2.4948e-02],\n",
            "         [-9.9411e-03, -1.4978e-01,  1.7557e-03,  ...,  3.7117e-03,\n",
            "          -1.6434e-02, -9.9087e-04],\n",
            "         ...,\n",
            "         [ 3.6979e-04, -7.7454e-02,  1.2955e-02,  ...,  3.9330e-03,\n",
            "          -1.1642e-02,  7.8506e-03],\n",
            "         [-2.6779e-03, -2.2446e-02, -1.6754e-02,  ..., -1.3142e-03,\n",
            "          -7.8583e-03,  2.0096e-02],\n",
            "         [-8.6288e-03,  1.4233e-01, -1.9012e-02,  ..., -1.8463e-02,\n",
            "          -9.8572e-03,  8.7662e-03]]], device='cuda:0', dtype=torch.float16,\n",
            "       grad_fn=<EmbeddingBackward0>)\n"
          ]
        }
      ]
    },
    {
      "cell_type": "code",
      "source": [
        "embed_position_input = embedded_input + embed_pos_input\n",
        "hidden_states, _, _ = OPT.model.decoder.layers[0].self_attn( embed_position_input )\n",
        "print( \"Layer:\\t\", OPT.model.decoder.layers[0].self_attn )\n",
        "print( \"Size:\\t\", hidden_states.size() )\n",
        "print( \"Output:\\t\", hidden_states )"
      ],
      "metadata": {
        "colab": {
          "base_uri": "https://localhost:8080/"
        },
        "id": "09W5HJusG9z2",
        "outputId": "9338b952-86dc-481e-cfc7-ea3cb474b862"
      },
      "execution_count": 15,
      "outputs": [
        {
          "output_type": "stream",
          "name": "stdout",
          "text": [
            "Layer:\t OPTAttention(\n",
            "  (k_proj): Linear8bitLt(in_features=2048, out_features=2048, bias=True)\n",
            "  (v_proj): Linear8bitLt(in_features=2048, out_features=2048, bias=True)\n",
            "  (q_proj): Linear8bitLt(in_features=2048, out_features=2048, bias=True)\n",
            "  (out_proj): Linear8bitLt(in_features=2048, out_features=2048, bias=True)\n",
            ")\n",
            "Size:\t torch.Size([1, 10, 2048])\n",
            "Output:\t tensor([[[-0.0136, -0.0095,  0.0012,  ...,  0.0067, -0.0018,  0.0131],\n",
            "         [-0.0131, -0.0100,  0.0022,  ...,  0.0088,  0.0003,  0.0124],\n",
            "         [-0.0131, -0.0060,  0.0038,  ...,  0.0099,  0.0021,  0.0141],\n",
            "         ...,\n",
            "         [-0.0121, -0.0099,  0.0051,  ...,  0.0095,  0.0016,  0.0098],\n",
            "         [-0.0120, -0.0103,  0.0052,  ...,  0.0094,  0.0012,  0.0091],\n",
            "         [-0.0119, -0.0110,  0.0056,  ...,  0.0095,  0.0013,  0.0093]]],\n",
            "       device='cuda:0', dtype=torch.float16, grad_fn=<MatMul8bitLtBackward>)\n"
          ]
        }
      ]
    },
    {
      "cell_type": "code",
      "source": [],
      "metadata": {
        "id": "VzX_gJY0_Clk"
      },
      "execution_count": null,
      "outputs": []
    }
  ]
}